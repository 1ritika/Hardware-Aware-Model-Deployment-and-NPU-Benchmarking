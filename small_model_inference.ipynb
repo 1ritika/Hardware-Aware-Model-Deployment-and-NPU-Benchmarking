{
 "cells": [
  {
   "cell_type": "markdown",
   "metadata": {
    "editable": true,
    "slideshow": {
     "slide_type": ""
    },
    "tags": []
   },
   "source": [
    "# Assignment - Machine Learning Inference on the NPU with Pytorch and ONNX\n",
    "\n",
    "\n",
    "## Goals\n",
    "\n",
    "* Demonstrate Ryzen SW flow for inference on NPU with pre-trained model\n",
    "\n",
    "* Learn Ryzen AI Software APIs\n",
    "    \n",
    "\n",
    "## Problem\n",
    "\n",
    "* Explore a trained model that classifies grayscale images of clothing items in the fashion-mnist dataset\n",
    "  \n",
    "* Use NPU to inference new images unseen during training process and classify per clothing item class\n",
    "\n",
    "      \n",
    "## References\n",
    "\n",
    "**[Ryzen AI SW repo](https://github.com/amd/RyzenAI-SW/tree/main/tutorial)**\n",
    "\n",
    "**[Ryzen AI Software Platform](https://ryzenai.docs.amd.com/en/latest/getstartex.html)**\n",
    "\n",
    "**[Vitis AI Execution Provider](https://onnxruntime.ai/docs/execution-providers/Vitis-AI-ExecutionProvider.html)**\n",
    "\n",
    "**[Guide on Quantization and Calibration](https://newsletter.maartengrootendorst.com/p/a-visual-guide-to-quantization)**\n",
    "\n",
    "**[Matplotlib Gallery](https://matplotlib.org/stable/gallery/axes_grid1/simple_axesgrid.html)**\n",
    "\n",
    "**[Fashion-mnist](https://github.com/zalandoresearch/fashion-mnist)**\n",
    "\n",
    "**[Confusion Matrix](https://christianbernecker.medium.com/how-to-create-a-confusion-matrix-in-pytorch-38d06a7f04b7)**\n",
    "\n",
    "<div class=\"alert alert-box alert-warning\">\n",
    "<strong>The main objective of this lab is to introduce the Ryzen AI NPU APIs using a small dataset and smaller model. The power and performance benefits of the NPU are not covered in this assigment. PLease refer to demo notebooks shared in the repo as examples for the same</strong>\n",
    "<br><br>\n",
    "<strong>Notebook Runtime: ~10 minutes</strong>\n",
    "</div>\n",
    "\n",
    "---\n"
   ]
  },
  {
   "cell_type": "markdown",
   "metadata": {},
   "source": [
    "## Step 1: Import Packages\n",
    "\n",
    "Run the following cell to import all the necessary packages to be able to run the inference in the Ryzen AI NPU."
   ]
  },
  {
   "cell_type": "code",
   "execution_count": 172,
   "metadata": {
    "tags": []
   },
   "outputs": [],
   "source": [
    "import warnings\n",
    "warnings.filterwarnings(\"ignore\")\n",
    "\n",
    "import matplotlib.pyplot as plt\n",
    "import numpy as np\n",
    "import torch\n",
    "import torch.nn as nn\n",
    "import torch.onnx\n",
    "from torch.autograd import Variable\n",
    "\n",
    "import torchvision\n",
    "import torchvision.transforms as transforms\n",
    "from torch.utils.data import Dataset, DataLoader\n",
    "from torch.utils.data import random_split\n",
    "\n",
    "import onnxruntime as ort\n",
    "from sklearn.metrics import confusion_matrix, accuracy_score\n",
    "import pandas as pd\n",
    "import seaborn as sn\n",
    "\n",
    "import onnx\n",
    "import onnxruntime as ort\n",
    "from onnxruntime.quantization import CalibrationDataReader, QuantType, QuantFormat, CalibrationMethod, quantize_static\n",
    "\n",
    "import quark\n",
    "from quark.onnx.quantization.config import (Config, get_default_config, QuantizationConfig)\n",
    "from quark.onnx import ModelQuantizer, PowerOfTwoMethod, QuantType\n",
    "from onnxruntime.quantization import CalibrationDataReader, QuantType, QuantFormat\n",
    "\n",
    "import os\n",
    "import glob\n",
    "from mpl_toolkits.axes_grid1 import ImageGrid"
   ]
  },
  {
   "cell_type": "markdown",
   "metadata": {
    "tags": []
   },
   "source": [
    "---"
   ]
  },
  {
   "cell_type": "markdown",
   "metadata": {},
   "source": [
    "## Step 2: Understanding the data\n",
    "\n",
    "We'll a train model on the [Fashion MNIST](https://github.com/zalandoresearch/fashion-mnist) dataset. This consists of 70,000 grayscale images (28x28). Each image is associated with 1 of 10 classes. The dataset was split by the creators; there are 60,000 training images and 10,000 test images. \n",
    "\n",
    "Fashion MNIST classes:\n",
    "* T-shirt/top\n",
    "* Trouser\n",
    "* Pullover\n",
    "* Dress\n",
    "* Coat\n",
    "* Sandal\n",
    "* Shirt\n",
    "* Sneaker\n",
    "* Bag\n",
    "* Ankle boot\n"
   ]
  },
  {
   "cell_type": "markdown",
   "metadata": {
    "tags": []
   },
   "source": [
    "### Load data for training and inference"
   ]
  },
  {
   "cell_type": "code",
   "execution_count": 173,
   "metadata": {
    "tags": []
   },
   "outputs": [],
   "source": [
    "full_train_set = torchvision.datasets.FashionMNIST(\"./data\", download=True, transform=\n",
    "                                                transforms.Compose([transforms.ToTensor()]))\n",
    "test_set = torchvision.datasets.FashionMNIST(\"./data\", download=True, train=False, transform=\n",
    "                                               transforms.Compose([transforms.ToTensor()]))  \n",
    "    "
   ]
  },
  {
   "cell_type": "markdown",
   "metadata": {
    "tags": []
   },
   "source": [
    "### Partition a calibration set"
   ]
  },
  {
   "cell_type": "markdown",
   "metadata": {},
   "source": [
    "<div class=\"alert alert-box alert-success\">\n",
    "<H3>ADD CODE IN BELOW CELL</H3>\n",
    "Split the full training set into a smaller 'train_set' and a 'calibration_set' ((e.g., 5,000 samples for calibration)"
   ]
  },
  {
   "cell_type": "code",
   "execution_count": 199,
   "metadata": {},
   "outputs": [
    {
     "name": "stdout",
     "output_type": "stream",
     "text": [
      "training set size is 55000\n",
      "calibration set size is 5000\n"
     ]
    }
   ],
   "source": [
    "## == ADD CODE HERE ==\n",
    "\n",
    "# split full training set into train_set and calibration_set\n",
    "calib_sz = 5000  # calibration size\n",
    "train_sz = len(full_train_set) - calib_sz  # training size\n",
    "\n",
    "train_set, calib_set = random_split(full_train_set, [train_sz, calib_sz])  # split the dataset\n",
    "\n",
    "print(\"training set size is\", len(train_set))\n",
    "print(\"calibration set size is\", len(calib_set))\n",
    "\n",
    "## ==================="
   ]
  },
  {
   "cell_type": "markdown",
   "metadata": {
    "tags": []
   },
   "source": [
    "### Create dataloaders"
   ]
  },
  {
   "cell_type": "code",
   "execution_count": 180,
   "metadata": {
    "tags": []
   },
   "outputs": [],
   "source": [
    "train_loader = torch.utils.data.DataLoader(train_set, \n",
    "                                           batch_size=100)\n",
    "test_loader = torch.utils.data.DataLoader(test_set,\n",
    "                                          batch_size=100)\n"
   ]
  },
  {
   "cell_type": "markdown",
   "metadata": {
    "colab_type": "text",
    "id": "4SfsxOX4peHU"
   },
   "source": [
    "### Visualize FashionMNIST dataset classes. \n",
    "Making a method that return the name of class for the label number. e.g. if the label is 5, we return Sandal.\n",
    "\n"
   ]
  },
  {
   "cell_type": "code",
   "execution_count": 181,
   "metadata": {
    "colab": {},
    "colab_type": "code",
    "id": "uWIE3hVqOlMi"
   },
   "outputs": [
    {
     "name": "stdout",
     "output_type": "stream",
     "text": [
      "<class 'torch.Tensor'> <class 'torch.Tensor'>\n",
      "torch.Size([100, 1, 28, 28]) torch.Size([100])\n",
      "labels:  Sneaker, Shirt, Ankle Boot, Shirt, Coat, Coat, Coat, Shirt, Trouser, Dress, Trouser, T-shirt/Top, Dress, Pullover, T-shirt/Top, Ankle Boot, Coat, Shirt, Sneaker, Pullover, Sneaker, Sneaker, Sneaker, Ankle Boot, T-shirt/Top, T-shirt/Top, T-shirt/Top, Coat, Shirt, T-shirt/Top, Pullover, Sneaker, Shirt, Dress, Ankle Boot, Shirt, Sandal, Dress, Dress, Trouser, Pullover, Bag, Sandal, Dress, Bag, Bag, Bag, Sandal, Sneaker, Shirt, Pullover, Pullover, Ankle Boot, Sneaker, Bag, Pullover, Sandal, Dress, Coat, Bag, Coat, T-shirt/Top, Pullover, Ankle Boot, Ankle Boot, Shirt, Shirt, Trouser, Sandal, Sneaker, Sneaker, Sandal, Shirt, Dress, Bag, Ankle Boot, Shirt, Shirt, Bag, Sandal, Bag, Pullover, Coat, Sneaker, Bag, Bag, Sandal, Dress, Shirt, Pullover, T-shirt/Top, Coat, Sneaker, Dress, Dress, T-shirt/Top, Ankle Boot, Bag, Shirt, Trouser, "
     ]
    },
    {
     "data": {
      "image/png": "[encoded data removed]",
      "text/plain": [
       "<Figure size 1500x2000 with 1 Axes>"
      ]
     },
     "metadata": {},
     "output_type": "display_data"
    }
   ],
   "source": [
    "def output_label(label):\n",
    "    output_mapping = {\n",
    "                 0: \"T-shirt/Top\",\n",
    "                 1: \"Trouser\",\n",
    "                 2: \"Pullover\",\n",
    "                 3: \"Dress\",\n",
    "                 4: \"Coat\", \n",
    "                 5: \"Sandal\", \n",
    "                 6: \"Shirt\",\n",
    "                 7: \"Sneaker\",\n",
    "                 8: \"Bag\",\n",
    "                 9: \"Ankle Boot\"\n",
    "                 }\n",
    "    input = (label.item() if type(label) == torch.Tensor else label)\n",
    "    return output_mapping[input]\n",
    "\n",
    "# Show 1 batch of train_set data\n",
    "batch = next(iter(train_loader))\n",
    "images, labels = batch\n",
    "print(type(images), type(labels))\n",
    "print(images.shape, labels.shape)\n",
    "\n",
    "grid = torchvision.utils.make_grid(images, nrow=10)\n",
    "\n",
    "plt.figure(figsize=(15, 20))\n",
    "plt.imshow(np.transpose(grid, (1, 2, 0)))\n",
    "print(\"labels: \", end=\" \")\n",
    "for i, label in enumerate(labels):\n",
    "    print(output_label(label), end=\", \")"
   ]
  },
  {
   "cell_type": "markdown",
   "metadata": {
    "tags": []
   },
   "source": [
    "---"
   ]
  },
  {
   "cell_type": "markdown",
   "metadata": {},
   "source": [
    "## Step 3: Building a CNN Model\n",
    "\n",
    "*   Make a model class\n",
    "    * It inherits nn.Module class that is a super class for all the neural networks in Pytorch.\n",
    "* The Neural Net has following layers:\n",
    "    * Two Sequential layers each consists of following layers-\n",
    "        * Convolution layer that has kernel size of 3 * 3, padding = 1 (zero_padding) in 1st layer and padding = 0 in second one. Stride of 1 in both layer.\n",
    "        * Batch Normalization layer.\n",
    "        * Acitvation function: ReLU.\n",
    "        * Max Pooling layer with kernel size of 2 * 2 and stride 2.\n",
    "     * Flatten out the output for dense layer(a.k.a. fully connected layer).\n",
    "     * 3 Fully connected layer  with different in/out features.\n",
    "     * 1 Dropout layer that has class probability p = 0.25.\n",
    "  \n",
    "     * All the functionaltiy is given in forward method that defines the forward pass of CNN.\n",
    "     * Our input image is changing in a following way:\n",
    "        * First Convulation layer : input: 28 \\* 28 \\* 3, output: 28 \\* 28 \\* 32\n",
    "        * First Max Pooling layer : input: 28 \\* 28 \\* 32, output: 14 \\* 14 \\* 32\n",
    "        * Second Conv layer : input : 14 \\* 14 \\* 32, output: 12 \\* 12 \\* 64\n",
    "        * Second Max Pooling layer : 12 \\* 12 \\* 64, output:  6 \\* 6 \\* 64\n",
    "    * Final fully connected layer has 10 output features for 10 types of clothes."
   ]
  },
  {
   "cell_type": "code",
   "execution_count": 182,
   "metadata": {},
   "outputs": [],
   "source": [
    "class FashionCNN(nn.Module):\n",
    "    \n",
    "    def __init__(self):\n",
    "        super(FashionCNN, self).__init__()\n",
    "        \n",
    "        self.layer1 = nn.Sequential(\n",
    "            nn.Conv2d(in_channels=1, out_channels=32, kernel_size=3, padding=1),\n",
    "            nn.BatchNorm2d(32),\n",
    "            nn.ReLU(),\n",
    "            nn.MaxPool2d(kernel_size=2, stride=2)\n",
    "        )\n",
    "        \n",
    "        self.layer2 = nn.Sequential(\n",
    "            nn.Conv2d(in_channels=32, out_channels=64, kernel_size=3),\n",
    "            nn.BatchNorm2d(64),\n",
    "            nn.ReLU(),\n",
    "            nn.MaxPool2d(2)\n",
    "        )\n",
    "        \n",
    "        self.fc1 = nn.Linear(in_features=64*6*6, out_features=600)\n",
    "        self.drop = nn.Dropout2d(0.25)\n",
    "        self.fc2 = nn.Linear(in_features=600, out_features=120)\n",
    "        self.fc3 = nn.Linear(in_features=120, out_features=10)\n",
    "        \n",
    "    def forward(self, x):\n",
    "        out = self.layer1(x)\n",
    "        out = self.layer2(out)\n",
    "        out = out.view(out.size(0), -1)\n",
    "        out = self.fc1(out)\n",
    "        out = self.drop(out)\n",
    "        out = self.fc2(out)\n",
    "        out = self.fc3(out)\n",
    "        \n",
    "        return out"
   ]
  },
  {
   "cell_type": "markdown",
   "metadata": {},
   "source": [
    "### Set hyperparameters and loss function\n",
    "\n",
    "*  Creating a object(model in the code)\n",
    "*  Defining a Loss function. we're using CrossEntropyLoss() here.\n",
    "*  Using Adam algorithm for optimization purpose."
   ]
  },
  {
   "cell_type": "code",
   "execution_count": 183,
   "metadata": {},
   "outputs": [
    {
     "name": "stdout",
     "output_type": "stream",
     "text": [
      "FashionCNN(\n",
      "  (layer1): Sequential(\n",
      "    (0): Conv2d(1, 32, kernel_size=(3, 3), stride=(1, 1), padding=(1, 1))\n",
      "    (1): BatchNorm2d(32, eps=1e-05, momentum=0.1, affine=True, track_running_stats=True)\n",
      "    (2): ReLU()\n",
      "    (3): MaxPool2d(kernel_size=2, stride=2, padding=0, dilation=1, ceil_mode=False)\n",
      "  )\n",
      "  (layer2): Sequential(\n",
      "    (0): Conv2d(32, 64, kernel_size=(3, 3), stride=(1, 1))\n",
      "    (1): BatchNorm2d(64, eps=1e-05, momentum=0.1, affine=True, track_running_stats=True)\n",
      "    (2): ReLU()\n",
      "    (3): MaxPool2d(kernel_size=2, stride=2, padding=0, dilation=1, ceil_mode=False)\n",
      "  )\n",
      "  (fc1): Linear(in_features=2304, out_features=600, bias=True)\n",
      "  (drop): Dropout2d(p=0.25, inplace=False)\n",
      "  (fc2): Linear(in_features=600, out_features=120, bias=True)\n",
      "  (fc3): Linear(in_features=120, out_features=10, bias=True)\n",
      ")\n"
     ]
    }
   ],
   "source": [
    "model = FashionCNN()\n",
    "print(model)\n",
    "\n",
    "error = nn.CrossEntropyLoss()\n",
    "learning_rate = 0.001\n",
    "optimizer = torch.optim.Adam(model.parameters(), lr=learning_rate)"
   ]
  },
  {
   "cell_type": "markdown",
   "metadata": {
    "tags": []
   },
   "source": [
    "---"
   ]
  },
  {
   "attachments": {},
   "cell_type": "markdown",
   "metadata": {},
   "source": [
    "<div class=\"alert alert-box alert-danger\">\n",
    "\n",
    "## Step 4 (Read-only): Training a network and testing it on test dataset\n",
    "#### We will not run the training here. The trained model file is given to you under onnx folder\n",
    "\n",
    "```python\n",
    "\n",
    "num_epochs = 5\n",
    "\n",
    "error = nn.CrossEntropyLoss()\n",
    "learning_rate = 0.001\n",
    "optimizer = torch.optim.Adam(model.parameters(), lr=learning_rate)\n",
    "\n",
    "count = 0\n",
    "# Lists for visualization of loss and accuracy \n",
    "loss_list = []\n",
    "iteration_list = []\n",
    "accuracy_list = []\n",
    "\n",
    "# Lists for knowing classwise accuracy\n",
    "predictions_list = []\n",
    "labels_list = []\n",
    "\n",
    "for epoch in range(num_epochs):\n",
    "    for images, labels in train_loader:\n",
    "    \n",
    "        train = Variable(images.view(100, 1, 28, 28))\n",
    "        labels = Variable(labels)\n",
    "        \n",
    "        # Forward pass \n",
    "        outputs = model(train)\n",
    "        loss = error(outputs, labels)\n",
    "        \n",
    "        # Initializing a gradient as 0 so there is no mixing of gradient among the batches\n",
    "        optimizer.zero_grad()\n",
    "        \n",
    "        # Propagating the error backward\n",
    "        loss.backward()\n",
    "        \n",
    "        # Optimizing the parameters\n",
    "        optimizer.step()\n",
    "    \n",
    "        count += 1\n",
    "    \n",
    "    # Testing the model\n",
    "    \n",
    "        if not (count % 50): \n",
    "            total = 0\n",
    "            correct = 0\n",
    "        \n",
    "            for images, labels in test_loader:\n",
    "                labels_list.append(labels)\n",
    "            \n",
    "                test = Variable(images.view(100, 1, 28, 28))\n",
    "            \n",
    "                outputs = model(test)\n",
    "            \n",
    "                predictions = torch.max(outputs, 1)[1]\n",
    "                predictions_list.append(predictions)\n",
    "                correct += (predictions == labels).sum()\n",
    "            \n",
    "                total += len(labels)\n",
    "            \n",
    "            accuracy = correct * 100 / total\n",
    "            loss_list.append(loss.data)\n",
    "            iteration_list.append(count)\n",
    "            accuracy_list.append(accuracy)\n",
    "        \n",
    "        if not (count % 500):\n",
    "            print(\"Iteration: {}, Loss: {}, Accuracy: {}%\".format(count, loss.data, accuracy))\n",
    "```\n",
    "\n",
    "\n",
    "### Save PyTorch model\n",
    "After completing the training process, observe the following output:   \n",
    "* The trained fashion-mnist model is saved at the following location: `onnx/fashion-mnist.pt`.\n",
    "\n",
    "```python\n",
    "\n",
    "torch.save(model.state_dict(), 'onnx/fashion-mnist.pt')\n",
    "\n",
    "\n",
    "```\n",
    "\n"
   ]
  },
  {
   "cell_type": "markdown",
   "metadata": {
    "tags": []
   },
   "source": [
    "---"
   ]
  },
  {
   "cell_type": "markdown",
   "metadata": {
    "tags": []
   },
   "source": [
    "## Step 5: ONNX model generation from a pre-trained pytorch model file"
   ]
  },
  {
   "cell_type": "code",
   "execution_count": 184,
   "metadata": {
    "tags": []
   },
   "outputs": [
    {
     "data": {
      "text/plain": [
       "FashionCNN(\n",
       "  (layer1): Sequential(\n",
       "    (0): Conv2d(1, 32, kernel_size=(3, 3), stride=(1, 1), padding=(1, 1))\n",
       "    (1): BatchNorm2d(32, eps=1e-05, momentum=0.1, affine=True, track_running_stats=True)\n",
       "    (2): ReLU()\n",
       "    (3): MaxPool2d(kernel_size=2, stride=2, padding=0, dilation=1, ceil_mode=False)\n",
       "  )\n",
       "  (layer2): Sequential(\n",
       "    (0): Conv2d(32, 64, kernel_size=(3, 3), stride=(1, 1))\n",
       "    (1): BatchNorm2d(64, eps=1e-05, momentum=0.1, affine=True, track_running_stats=True)\n",
       "    (2): ReLU()\n",
       "    (3): MaxPool2d(kernel_size=2, stride=2, padding=0, dilation=1, ceil_mode=False)\n",
       "  )\n",
       "  (fc1): Linear(in_features=2304, out_features=600, bias=True)\n",
       "  (drop): Dropout2d(p=0.25, inplace=False)\n",
       "  (fc2): Linear(in_features=600, out_features=120, bias=True)\n",
       "  (fc3): Linear(in_features=120, out_features=10, bias=True)\n",
       ")"
      ]
     },
     "execution_count": 184,
     "metadata": {},
     "output_type": "execute_result"
    }
   ],
   "source": [
    "model.load_state_dict(torch.load('onnx/fashion-mnist.pt'))\n",
    "model.eval()  # Set the model to evaluation mode"
   ]
  },
  {
   "cell_type": "markdown",
   "metadata": {},
   "source": [
    "<div class=\"alert alert-box alert-success\">\n",
    "<H3>ADD CODE IN BELOW CELL</H3>\n",
    "Export the model to ONNX format and save to onnx folder 'onnx/fashion-mnist.onnx'<br><b>Reference:  </b>2_pytorch_onnx_re-train.ipynb"
   ]
  },
  {
   "cell_type": "code",
   "execution_count": 185,
   "metadata": {
    "tags": []
   },
   "outputs": [
    {
     "name": "stdout",
     "output_type": "stream",
     "text": [
      "onnx model exported successfully!\n"
     ]
    }
   ],
   "source": [
    "## == ADD CODE HERE ==\n",
    "\n",
    "# export model to onnx format\n",
    "\n",
    "# dummy input with proper shape (batch size 1, channel 1, 28x28 image)\n",
    "dummy_input = torch.randn(1, 1, 28, 28)\n",
    "\n",
    "# export model to onnx file\n",
    "torch.onnx.export(\n",
    "    model,                           # trained model in eval mode\n",
    "    dummy_input,                     # input for tracing\n",
    "    'onnx/fashion-mnist.onnx',       # onnx file path\n",
    "    export_params=True,              # store trained weights in model file\n",
    "    opset_version=17,                # set opset version\n",
    "    input_names=['input'],           # input tensor nm\n",
    "    output_names=['output'],         # output tensor nm\n",
    "    dynamic_axes={'input': {0: 'batch_size'}, 'output': {0: 'batch_size'}}  # dynamic batch size\n",
    ")\n",
    "\n",
    "print(\"onnx model exported successfully!\")\n",
    "\n",
    "## ==================="
   ]
  },
  {
   "cell_type": "markdown",
   "metadata": {},
   "source": [
    "### Visualize the input FP32 ONNX model\n",
    "\n",
    "Generated and adapted using Netron\n",
    ">Netron is a viewer for neural network, deep learning and machine learning models."
   ]
  },
  {
   "cell_type": "markdown",
   "metadata": {},
   "source": [
    "<div class=\"alert alert-box alert-warning\">\n",
    "\n",
    "<strong>Note</strong> You can right click and download the file './onnx/fashion-mnist.onnx' from the file browser on the left and once the file is dowloaded to your local machine, run the cell below. Then open the model from your local machines' downloads folder.\n",
    "\n",
    "</div>"
   ]
  },
  {
   "cell_type": "code",
   "execution_count": 186,
   "metadata": {},
   "outputs": [
    {
     "data": {
      "text/html": [
       "\n",
       "        <iframe\n",
       "            width=\"800\"\n",
       "            height=\"600\"\n",
       "            src=\"https://netron.app/\"\n",
       "            frameborder=\"0\"\n",
       "            allowfullscreen\n",
       "            \n",
       "        ></iframe>\n",
       "        "
      ],
      "text/plain": [
       "<IPython.lib.display.IFrame at 0x272b4499d20>"
      ]
     },
     "metadata": {},
     "output_type": "display_data"
    }
   ],
   "source": [
    "from IPython.display import IFrame\n",
    "\n",
    "notebook_url = \"https://netron.app/\"\n",
    "\n",
    "iframe = IFrame(notebook_url, width=800, height=600)\n",
    "\n",
    "display(iframe)\n"
   ]
  },
  {
   "cell_type": "markdown",
   "metadata": {},
   "source": [
    "---"
   ]
  },
  {
   "cell_type": "markdown",
   "metadata": {},
   "source": [
    "## Step 6: Quantize the Model with Calibration"
   ]
  },
  {
   "cell_type": "markdown",
   "metadata": {},
   "source": [
    "Quantizing AI models from floating-point to 8-bit integers reduces computational power and the memory footprint required for inference. For model quantization, you can either use [AMD Quark](https://quark.docs.amd.com/latest/index.html) or [Microsoft Olive](https://ryzenai.docs.amd.com/en/latest/olive_quant.html). This example utilizes the AMD Quark quantizer workflow. \n",
    "   \n",
    "This will generate a quantized model using QDQ quant format and UInt8 activation type and Int8 weight type. After the run is completed, the quantized ONNX model `fashion-mnist.qdq.U8S8.onnx` is saved to `onnx/fashion-mnist.qdq.U8S8.onnx`.\n",
    "    \n",
    "For more information on representation of quantized ONNX models (e.g., QDQ quant format, UInt8 activation type and Int8 weight type) see [here](https://onnxruntime.ai/docs/performance/model-optimizations/quantization.html#onnx-quantization-representation-format)   \n",
    "   \n",
    "The  ```QuantizationConfig``` class is used to configure the quantization parameters to the model. \n",
    "\n",
    "#### Full List of Quantization Configuration Features can be [found here](https://quark.docs.amd.com/latest/onnx/appendix_full_quant_config_features.html)\n",
    "\n",
    "\n",
    "```python\n",
    "from quark.onnx import ModelQuantizer, PowerOfTwoMethod, QuantType\n",
    "from quark.onnx.quantization.config.config import Config, QuantizationConfig\n",
    "\n",
    "quant_config = QuantizationConfig(\n",
    "    quant_format=quark.onnx.QuantFormat.QDQ,\n",
    "    calibrate_method=quark.onnx.PowerOfTwoMethod.MinMSE,\n",
    "    input_nodes=[],\n",
    "    output_nodes=[],\n",
    "    op_types_to_quantize=[],\n",
    "    per_channel=False,\n",
    "    reduce_range=False,\n",
    "    activation_type=quark.onnx.QuantType.QInt8,\n",
    "    weight_type=quark.onnx.QuantType.QInt8,\n",
    "    nodes_to_quantize=[],\n",
    "    nodes_to_exclude=[],\n",
    "    subgraphs_to_exclude=[],\n",
    "    optimize_model=True,\n",
    "    use_dynamic_quant=False,\n",
    "    use_external_data_format=False,\n",
    "    execution_providers=['CPUExecutionProvider'],\n",
    "    enable_npu_cnn=False,\n",
    "    enable_npu_transformer=False,\n",
    "    convert_fp16_to_fp32=False,\n",
    "    convert_nchw_to_nhwc=False,\n",
    "    include_cle=False,\n",
    "    include_sq=False,\n",
    "    extra_options={},)\n",
    "config = Config(global_quant_config=quant_config)\n",
    "\n",
    "quantizer = ModelQuantizer(config)\n",
    "quantizer.quantize_model(input_model_path, output_model_path, calibration_data_reader=None)\n",
    "```\n",
    "\n"
   ]
  },
  {
   "cell_type": "markdown",
   "metadata": {},
   "source": [
    "<div class=\"alert alert-box alert-success\">\n",
    "<H3>ADD CODE IN BELOW CELL</H3>\n",
    "Pass the 'calibration_set' and 'batch_size' to the Dataloader "
   ]
  },
  {
   "cell_type": "code",
   "execution_count": 187,
   "metadata": {},
   "outputs": [],
   "source": [
    "class FmnistCalibrationDataReader(CalibrationDataReader):\n",
    "    def __init__(self, batch_size: int = 1):\n",
    "        super().__init__()\n",
    "        \n",
    "        ## == ADD CODE HERE ==\n",
    "        \n",
    "        #self.iterator = iter(torch.utils.data.DataLoader(calibration_set, batch_size=batch_si  ze, shuffle=False, drop_last=True))# Add code here\n",
    "        self.iterator = iter(torch.utils.data.DataLoader(\n",
    "        calib_set,\n",
    "        batch_size=batch_size,\n",
    "        shuffle=False,\n",
    "        drop_last=True\n",
    "    )\n",
    ")\n",
    "\n",
    "        ## ===================\n",
    "\n",
    "    def get_next(self) -> dict:\n",
    "        try:\n",
    "            images, labels = next(self.iterator)\n",
    "            return {\"input\": images.numpy()}\n",
    "        except Exception:\n",
    "            return None\n",
    "\n",
    "def fmnist_calibration_reader():\n",
    "    return FmnistCalibrationDataReader()"
   ]
  },
  {
   "cell_type": "markdown",
   "metadata": {},
   "source": [
    "<div class=\"alert alert-box alert-success\">\n",
    "<H3>ADD CODE IN BELOW CELL</H3>\n",
    "<ul>\n",
    "<li>Set `input_model_path` - the path to the original, unquantized ONNX model.</li>\n",
    "<li>Set `output_model_path` - the path where the quantized model will be saved</li>\n",
    "<li>Set quantization configuration</li>\n",
    "<li>Create an ONNX quantizer and Quantize the ONNX model passing the fmnist_calibration_reader function we defined above</li>\n",
    "</ul>\n",
    "<br><b>Reference:  </b>2_pytorch_onnx_re-train.ipynb"
   ]
  },
  {
   "cell_type": "code",
   "execution_count": 188,
   "metadata": {},
   "outputs": [
    {
     "name": "stderr",
     "output_type": "stream",
     "text": [
      "\u001b[32m\n",
      "[QUARK-INFO]: The input ONNX model onnx/fashion-mnist.onnx can create InferenceSession successfully\u001b[0m\n"
     ]
    },
    {
     "name": "stdout",
     "output_type": "stream",
     "text": [
      "[QUARK_INFO]: Time information:\n",
      "2025-04-07 21:08:42.709410\n",
      "[QUARK_INFO]: OS and CPU information:\n",
      "                                        system --- Windows\n",
      "                                          node --- aup-strix7-w7\n",
      "                                       release --- 10\n",
      "                                       version --- 10.0.26100\n",
      "                                       machine --- AMD64\n",
      "                                     processor --- AMD64 Family 26 Model 36 Stepping 0, AuthenticAMD\n",
      "[QUARK_INFO]: Tools version information:\n",
      "                                        python --- 3.10.16\n",
      "                                          onnx --- 1.16.1\n",
      "                                   onnxruntime --- 1.19.0\n",
      "                                    quark.onnx --- 0.6.0+dba9ca364\n",
      "[QUARK_INFO]: Quantized Configuration information:\n",
      "                                   model_input --- onnx/fashion-mnist.onnx\n",
      "                                  model_output --- onnx/fashion-mnist.qdq.U8S8.onnx\n",
      "                       calibration_data_reader --- <__main__.FmnistCalibrationDataReader object at 0x0000027226DA95D0>\n",
      "                         calibration_data_path --- None\n",
      "                                  quant_format --- QDQ\n",
      "                                   input_nodes --- []\n",
      "                                  output_nodes --- []\n",
      "                          op_types_to_quantize --- []\n",
      "                    extra_op_types_to_quantize --- []\n",
      "                                   per_channel --- False\n",
      "                                  reduce_range --- False\n",
      "                               activation_type --- QUInt8\n",
      "                                   weight_type --- QInt8\n",
      "                             nodes_to_quantize --- []\n",
      "                              nodes_to_exclude --- []\n",
      "                                optimize_model --- True\n",
      "                      use_external_data_format --- False\n",
      "                              calibrate_method --- PowerOfTwoMethod.MinMSE\n",
      "                           execution_providers --- ['CPUExecutionProvider']\n",
      "                                enable_npu_cnn --- True\n",
      "                        enable_npu_transformer --- False\n",
      "                     specific_tensor_precision --- False\n",
      "                                    debug_mode --- False\n",
      "                          convert_fp16_to_fp32 --- False\n",
      "                          convert_nchw_to_nhwc --- False\n",
      "                                   include_cle --- False\n",
      "                                    include_sq --- False\n",
      "                               include_fast_ft --- False\n",
      "                                 extra_options --- {'ActivationSymmetric': True}\n"
     ]
    },
    {
     "name": "stderr",
     "output_type": "stream",
     "text": [
      "\u001b[32m\n",
      "[QUARK-INFO]: Obtained calibration data with 15000 iters\u001b[0m\n",
      "\u001b[32m\n",
      "[QUARK-INFO]: Removed initializers from input\u001b[0m\n",
      "\u001b[32m\n",
      "[QUARK-INFO]: Simplified model sucessfully\u001b[0m\n",
      "\u001b[32m\n",
      "[QUARK-INFO]: Loading model...\u001b[0m\n",
      "\u001b[32m\n",
      "[QUARK-INFO]: The input ONNX model C:/Users/aup/AppData/Local/Temp/vai.simp.muheh371/model_simp.onnx can run inference successfully\u001b[0m\n",
      "\u001b[32m\n",
      "[QUARK-INFO]: optimize the model for better hardware compatibility.\u001b[0m\n",
      "\u001b[32m\n",
      "[QUARK-INFO]: Start calibration...\u001b[0m\n",
      "\u001b[32m\n",
      "[QUARK-INFO]: Start collecting data, runtime depends on your model size and the number of calibration dataset.\u001b[0m\n",
      "\u001b[32m\n",
      "[QUARK-INFO]: Finding optimal threshold for each tensor using PowerOfTwoMethod.MinMSE algorithm ...\u001b[0m\n",
      "\u001b[32m\n",
      "[QUARK-INFO]: Use all calibration data to calculate min mse\u001b[0m\n",
      "Computing range: 100%|██████████| 11/11 [01:01<00:00,  5.59s/tensor]\n",
      "\u001b[32m\n",
      "[QUARK-INFO]: Finished the calibration of PowerOfTwoMethod.MinMSE which costs 65.3s\u001b[0m\n",
      "\u001b[32m\n",
      "[QUARK-INFO]: Remove QuantizeLinear & DequantizeLinear on certain operations(such as conv-relu).\u001b[0m\n",
      "\u001b[32m\n",
      "[QUARK-INFO]: Adjust the quantize info to meet the compiler constraints\u001b[0m\n"
     ]
    },
    {
     "name": "stdout",
     "output_type": "stream",
     "text": [
      "The operation types and their corresponding quantities of the input float model is shown in the table below.\n"
     ]
    },
    {
     "data": {
      "text/html": [
       "<pre style=\"white-space:pre;overflow-x:auto;line-height:normal;font-family:Menlo,'DejaVu Sans Mono',consolas,'Courier New',monospace\">┏━━━━━━━━━━━━━━━━━━━━━━┳━━━━━━━━━━━━━━━━━━━━━━━━━━━━━━━━━━┓\n",
       "┃<span style=\"font-weight: bold\"> Op Type              </span>┃<span style=\"font-weight: bold\"> Float Model                      </span>┃\n",
       "┡━━━━━━━━━━━━━━━━━━━━━━╇━━━━━━━━━━━━━━━━━━━━━━━━━━━━━━━━━━┩\n",
       "│ Conv                 │<span style=\"color: #00ff00; text-decoration-color: #00ff00; font-weight: bold\"> 2                                </span>│\n",
       "│ Relu                 │<span style=\"color: #00ff00; text-decoration-color: #00ff00; font-weight: bold\"> 2                                </span>│\n",
       "│ MaxPool              │<span style=\"color: #00ff00; text-decoration-color: #00ff00; font-weight: bold\"> 2                                </span>│\n",
       "│ Shape                │<span style=\"color: #00ff00; text-decoration-color: #00ff00; font-weight: bold\"> 1                                </span>│\n",
       "│ Constant             │<span style=\"color: #00ff00; text-decoration-color: #00ff00; font-weight: bold\"> 3                                </span>│\n",
       "│ Gather               │<span style=\"color: #00ff00; text-decoration-color: #00ff00; font-weight: bold\"> 1                                </span>│\n",
       "│ Unsqueeze            │<span style=\"color: #00ff00; text-decoration-color: #00ff00; font-weight: bold\"> 1                                </span>│\n",
       "│ Concat               │<span style=\"color: #00ff00; text-decoration-color: #00ff00; font-weight: bold\"> 1                                </span>│\n",
       "│ Reshape              │<span style=\"color: #00ff00; text-decoration-color: #00ff00; font-weight: bold\"> 1                                </span>│\n",
       "│ Gemm                 │<span style=\"color: #00ff00; text-decoration-color: #00ff00; font-weight: bold\"> 3                                </span>│\n",
       "├──────────────────────┼──────────────────────────────────┤\n",
       "│ Quantized model path │<span style=\"color: #00ff00; text-decoration-color: #00ff00; font-weight: bold\"> onnx/fashion-mnist.qdq.U8S8.onnx </span>│\n",
       "└──────────────────────┴──────────────────────────────────┘\n",
       "</pre>\n"
      ],
      "text/plain": [
       "┏━━━━━━━━━━━━━━━━━━━━━━┳━━━━━━━━━━━━━━━━━━━━━━━━━━━━━━━━━━┓\n",
       "┃\u001b[1m \u001b[0m\u001b[1mOp Type             \u001b[0m\u001b[1m \u001b[0m┃\u001b[1m \u001b[0m\u001b[1mFloat Model                     \u001b[0m\u001b[1m \u001b[0m┃\n",
       "┡━━━━━━━━━━━━━━━━━━━━━━╇━━━━━━━━━━━━━━━━━━━━━━━━━━━━━━━━━━┩\n",
       "│ Conv                 │\u001b[1;38;5;46m \u001b[0m\u001b[1;38;5;46m2                               \u001b[0m\u001b[1;38;5;46m \u001b[0m│\n",
       "│ Relu                 │\u001b[1;38;5;46m \u001b[0m\u001b[1;38;5;46m2                               \u001b[0m\u001b[1;38;5;46m \u001b[0m│\n",
       "│ MaxPool              │\u001b[1;38;5;46m \u001b[0m\u001b[1;38;5;46m2                               \u001b[0m\u001b[1;38;5;46m \u001b[0m│\n",
       "│ Shape                │\u001b[1;38;5;46m \u001b[0m\u001b[1;38;5;46m1                               \u001b[0m\u001b[1;38;5;46m \u001b[0m│\n",
       "│ Constant             │\u001b[1;38;5;46m \u001b[0m\u001b[1;38;5;46m3                               \u001b[0m\u001b[1;38;5;46m \u001b[0m│\n",
       "│ Gather               │\u001b[1;38;5;46m \u001b[0m\u001b[1;38;5;46m1                               \u001b[0m\u001b[1;38;5;46m \u001b[0m│\n",
       "│ Unsqueeze            │\u001b[1;38;5;46m \u001b[0m\u001b[1;38;5;46m1                               \u001b[0m\u001b[1;38;5;46m \u001b[0m│\n",
       "│ Concat               │\u001b[1;38;5;46m \u001b[0m\u001b[1;38;5;46m1                               \u001b[0m\u001b[1;38;5;46m \u001b[0m│\n",
       "│ Reshape              │\u001b[1;38;5;46m \u001b[0m\u001b[1;38;5;46m1                               \u001b[0m\u001b[1;38;5;46m \u001b[0m│\n",
       "│ Gemm                 │\u001b[1;38;5;46m \u001b[0m\u001b[1;38;5;46m3                               \u001b[0m\u001b[1;38;5;46m \u001b[0m│\n",
       "├──────────────────────┼──────────────────────────────────┤\n",
       "│ Quantized model path │\u001b[1;38;5;46m \u001b[0m\u001b[1;38;5;46monnx/fashion-mnist.qdq.U8S8.onnx\u001b[0m\u001b[1;38;5;46m \u001b[0m│\n",
       "└──────────────────────┴──────────────────────────────────┘\n"
      ]
     },
     "metadata": {},
     "output_type": "display_data"
    },
    {
     "name": "stdout",
     "output_type": "stream",
     "text": [
      "The quantized information for all operation types is shown in the table below.\n",
      "The discrepancy between the operation types in the quantized model and the float model is due to the application of graph optimization.\n"
     ]
    },
    {
     "data": {
      "text/html": [
       "<pre style=\"white-space:pre;overflow-x:auto;line-height:normal;font-family:Menlo,'DejaVu Sans Mono',consolas,'Courier New',monospace\">┏━━━━━━━━━┳━━━━━━━━━━━━┳━━━━━━━━━┳━━━━━━━━━┓\n",
       "┃<span style=\"font-weight: bold\"> Op Type </span>┃<span style=\"font-weight: bold\"> Activation </span>┃<span style=\"font-weight: bold\"> Weights </span>┃<span style=\"font-weight: bold\"> Bias    </span>┃\n",
       "┡━━━━━━━━━╇━━━━━━━━━━━━╇━━━━━━━━━╇━━━━━━━━━┩\n",
       "│ Conv    │<span style=\"color: #00ff00; text-decoration-color: #00ff00; font-weight: bold\"> UINT8(2)   </span>│<span style=\"color: #00ff00; text-decoration-color: #00ff00; font-weight: bold\"> INT8(2) </span>│<span style=\"color: #00ff00; text-decoration-color: #00ff00; font-weight: bold\"> INT8(2) </span>│\n",
       "│ MaxPool │<span style=\"color: #00ff00; text-decoration-color: #00ff00; font-weight: bold\"> UINT8(2)   </span>│<span style=\"color: #00ff00; text-decoration-color: #00ff00; font-weight: bold\">         </span>│<span style=\"color: #00ff00; text-decoration-color: #00ff00; font-weight: bold\">         </span>│\n",
       "│ Reshape │<span style=\"color: #00ff00; text-decoration-color: #00ff00; font-weight: bold\"> UINT8(1)   </span>│<span style=\"color: #00ff00; text-decoration-color: #00ff00; font-weight: bold\">         </span>│<span style=\"color: #00ff00; text-decoration-color: #00ff00; font-weight: bold\">         </span>│\n",
       "│ Gemm    │<span style=\"color: #00ff00; text-decoration-color: #00ff00; font-weight: bold\"> UINT8(3)   </span>│<span style=\"color: #00ff00; text-decoration-color: #00ff00; font-weight: bold\"> INT8(3) </span>│<span style=\"color: #00ff00; text-decoration-color: #00ff00; font-weight: bold\"> INT8(3) </span>│\n",
       "└─────────┴────────────┴─────────┴─────────┘\n",
       "</pre>\n"
      ],
      "text/plain": [
       "┏━━━━━━━━━┳━━━━━━━━━━━━┳━━━━━━━━━┳━━━━━━━━━┓\n",
       "┃\u001b[1m \u001b[0m\u001b[1mOp Type\u001b[0m\u001b[1m \u001b[0m┃\u001b[1m \u001b[0m\u001b[1mActivation\u001b[0m\u001b[1m \u001b[0m┃\u001b[1m \u001b[0m\u001b[1mWeights\u001b[0m\u001b[1m \u001b[0m┃\u001b[1m \u001b[0m\u001b[1mBias   \u001b[0m\u001b[1m \u001b[0m┃\n",
       "┡━━━━━━━━━╇━━━━━━━━━━━━╇━━━━━━━━━╇━━━━━━━━━┩\n",
       "│ Conv    │\u001b[1;38;5;46m \u001b[0m\u001b[1;38;5;46mUINT8(2)  \u001b[0m\u001b[1;38;5;46m \u001b[0m│\u001b[1;38;5;46m \u001b[0m\u001b[1;38;5;46mINT8(2)\u001b[0m\u001b[1;38;5;46m \u001b[0m│\u001b[1;38;5;46m \u001b[0m\u001b[1;38;5;46mINT8(2)\u001b[0m\u001b[1;38;5;46m \u001b[0m│\n",
       "│ MaxPool │\u001b[1;38;5;46m \u001b[0m\u001b[1;38;5;46mUINT8(2)  \u001b[0m\u001b[1;38;5;46m \u001b[0m│\u001b[1;38;5;46m \u001b[0m\u001b[1;38;5;46m       \u001b[0m\u001b[1;38;5;46m \u001b[0m│\u001b[1;38;5;46m \u001b[0m\u001b[1;38;5;46m       \u001b[0m\u001b[1;38;5;46m \u001b[0m│\n",
       "│ Reshape │\u001b[1;38;5;46m \u001b[0m\u001b[1;38;5;46mUINT8(1)  \u001b[0m\u001b[1;38;5;46m \u001b[0m│\u001b[1;38;5;46m \u001b[0m\u001b[1;38;5;46m       \u001b[0m\u001b[1;38;5;46m \u001b[0m│\u001b[1;38;5;46m \u001b[0m\u001b[1;38;5;46m       \u001b[0m\u001b[1;38;5;46m \u001b[0m│\n",
       "│ Gemm    │\u001b[1;38;5;46m \u001b[0m\u001b[1;38;5;46mUINT8(3)  \u001b[0m\u001b[1;38;5;46m \u001b[0m│\u001b[1;38;5;46m \u001b[0m\u001b[1;38;5;46mINT8(3)\u001b[0m\u001b[1;38;5;46m \u001b[0m│\u001b[1;38;5;46m \u001b[0m\u001b[1;38;5;46mINT8(3)\u001b[0m\u001b[1;38;5;46m \u001b[0m│\n",
       "└─────────┴────────────┴─────────┴─────────┘\n"
      ]
     },
     "metadata": {},
     "output_type": "display_data"
    },
    {
     "name": "stdout",
     "output_type": "stream",
     "text": [
      "quantized model saved at: onnx/fashion-mnist.qdq.U8S8.onnx\n"
     ]
    }
   ],
   "source": [
    "# Run the following cell to quantize and save the model:\n",
    "\n",
    "## == ADD CODE HERE ==\n",
    "# set input and output model paths\n",
    "input_mdl_path = \"onnx/fashion-mnist.onnx\"\n",
    "output_mdl_path = \"onnx/fashion-mnist.qdq.U8S8.onnx\"\n",
    "\n",
    "# get default quantization config\n",
    "quant_config = get_default_config(\"XINT8\")\n",
    "config = Config(global_quant_config=quant_config)\n",
    "\n",
    "# create model quantizer\n",
    "quantizer = ModelQuantizer(config)\n",
    "\n",
    "# run quantization using calibration reader\n",
    "quantizer.quantize_model(input_mdl_path, output_mdl_path, fmnist_calibration_reader())\n",
    "\n",
    "print(\"quantized model saved at:\", output_mdl_path)\n",
    "\n",
    "## ===================\n",
    "\n"
   ]
  },
  {
   "cell_type": "markdown",
   "metadata": {},
   "source": [
    "After completing the quantization process, observe the following output:\n",
    "\n",
    "* The quantized fashion-mnist model is saved at the following location in ONNX format: `onnx/fashion-mnist.qdq.U8S8.onnx`."
   ]
  },
  {
   "cell_type": "markdown",
   "metadata": {},
   "source": [
    "### Visualize the INT8 quantized ONNX model\n",
    "\n",
    "Generated and adapted using Netron\n",
    ">Netron is a viewer for neural network, deep learning and machine learning models."
   ]
  },
  {
   "cell_type": "markdown",
   "metadata": {},
   "source": [
    "<div class=\"alert alert-box alert-warning\">\n",
    "\n",
    "<strong>Note</strong> You can right click and download the file <b>'./onnx/fashion-mnist.qdq.U8S8.onnx'</b> from the file browser on the left and once the file is dowloaded to your local machine, run the cell below. Then open the model from your local machines' downloads folder.\n",
    "\n",
    "</div>"
   ]
  },
  {
   "cell_type": "code",
   "execution_count": 189,
   "metadata": {},
   "outputs": [
    {
     "data": {
      "text/html": [
       "\n",
       "        <iframe\n",
       "            width=\"800\"\n",
       "            height=\"600\"\n",
       "            src=\"https://netron.app/\"\n",
       "            frameborder=\"0\"\n",
       "            allowfullscreen\n",
       "            \n",
       "        ></iframe>\n",
       "        "
      ],
      "text/plain": [
       "<IPython.lib.display.IFrame at 0x27227467eb0>"
      ]
     },
     "metadata": {},
     "output_type": "display_data"
    }
   ],
   "source": [
    "from IPython.display import IFrame\n",
    "\n",
    "notebook_url = \"https://netron.app/\"\n",
    "\n",
    "iframe = IFrame(notebook_url, width=800, height=600)\n",
    "\n",
    "display(iframe)\n"
   ]
  },
  {
   "cell_type": "markdown",
   "metadata": {},
   "source": [
    "---"
   ]
  },
  {
   "cell_type": "markdown",
   "metadata": {},
   "source": [
    "## Step 9: Deploy the Model on NPU for Inference with calibration\n",
    "### Setup xclbin for NPU\n",
    "Run the next cell to set up the XLNX_VART_FIRMWARE environmental variable to point to the NPU binary. The NPU binary is an AI design that provides up to high performance. multiple such AI streams can be run in parallel on the NPU without any visible loss of performance.<br>\n",
    "<span style=\"color:chocolate\"><b>Note:</b></span> `XLNX_VART_FIRMWARE` Env variable  is set to the `xclbin` file"
   ]
  },
  {
   "cell_type": "code",
   "execution_count": 190,
   "metadata": {},
   "outputs": [
    {
     "data": {
      "text/plain": [
       "'C:\\\\Program Files\\\\RyzenAI\\\\1.3.1\\\\voe-4.0-win_amd64\\\\xclbins\\\\strix\\\\AMD_AIE2P_Nx4_Overlay.xclbin'"
      ]
     },
     "execution_count": 190,
     "metadata": {},
     "output_type": "execute_result"
    }
   ],
   "source": [
    "# AIE array \n",
    "os.environ['XLNX_ENABLE_CACHE'] = '0'\n",
    "os.environ['XLNX_VART_FIRMWARE']"
   ]
  },
  {
   "cell_type": "markdown",
   "metadata": {},
   "source": [
    "### Load quantized ONNX model\n",
    "\n",
    "Run the following cell to load the provided ONNX quantized model.\n",
    "\n",
    "<div class=\"alert alert-box alert-info\">\n",
    "\n",
    "We will use the following pre-trained quantized file:\n",
    "\n",
    "* The trained quantized fashion-mnist model is saved at the following location: `onnx/fashion-mnist.qdq.U8S8.onnx`\n",
    "</div>"
   ]
  },
  {
   "cell_type": "code",
   "execution_count": 191,
   "metadata": {},
   "outputs": [],
   "source": [
    "quantized_model_path1 = r'onnx/fashion-mnist.qdq.U8S8.onnx'\n",
    "model = onnx.load(quantized_model_path1)"
   ]
  },
  {
   "cell_type": "markdown",
   "metadata": {},
   "source": [
    "<div class=\"alert alert-box alert-success\">\n",
    "<H3>ADD CODE IN BELOW CELL</H3>\n",
    "Deploy model using Vitis AI EP<br>\n",
    "<br><b>Reference:</b>\n",
    "<br><a>- https://ryzenai.docs.amd.com/en/latest/modelrun.html</a></br>\n",
    "- 1_pytorch_onnx_inference-NPU.ipynb"
   ]
  },
  {
   "cell_type": "code",
   "execution_count": 192,
   "metadata": {},
   "outputs": [
    {
     "name": "stdout",
     "output_type": "stream",
     "text": [
      "XLNX_VART_FIRMWARE: C:\\Program Files\\RyzenAI\\1.3.1\\voe-4.0-win_amd64\\xclbins\\strix\\AMD_AIE2P_Nx4_Overlay.xclbin\n",
      "model deployed on npu successfully!\n"
     ]
    }
   ],
   "source": [
    "## == ADD CODE HERE ==\n",
    "\n",
    "# set environment variables for NPU setup\n",
    "os.environ['XLNX_ENABLE_CACHE'] = '0'     # disable cache\n",
    "print(\"XLNX_VART_FIRMWARE:\", os.environ.get('XLNX_VART_FIRMWARE'))\n",
    "\n",
    "\n",
    "quantized_model_path1 = r'onnx/fashion-mnist.qdq.U8S8.onnx'      # quantized onnx file path\n",
    "model = onnx.load(quantized_model_path1)          # load onnx model\n",
    "\n",
    "# providers and provider options for vitis ai ep\n",
    "providers = ['VitisAIExecutionProvider']         # providers list\n",
    "cache_dir = os.path.join(os.getcwd(), \"onnx\")    # cache directory\n",
    "provider_options = [{\n",
    "    'config_file': 'onnx/vaip_config.json',\n",
    "    'cacheDir': str(cache_dir),\n",
    "    'cacheKey': 'modelcachekey_lab4'\n",
    "}]       # provider options\n",
    "\n",
    "# onnx runtime inference session\n",
    "session = ort.InferenceSession(quantized_model_path1, providers=providers, provider_options=provider_options)\n",
    "\n",
    "print(\"model deployed on npu successfully!\")\n",
    "\n",
    "\n",
    "## ===================\n",
    "\n"
   ]
  },
  {
   "cell_type": "code",
   "execution_count": 193,
   "metadata": {},
   "outputs": [],
   "source": [
    "run_opt = ort.RunOptions()\n",
    "input_name = session.get_inputs()[0].name\n",
    "label_name = session.get_outputs()[0].name"
   ]
  },
  {
   "cell_type": "markdown",
   "metadata": {},
   "source": [
    "### Run Inference on Test set\n",
    "\n",
    "20 images from the test set are read, classified and  visualized by running the quantized fashion-mnist model on the NPU."
   ]
  },
  {
   "cell_type": "code",
   "execution_count": 194,
   "metadata": {
    "tags": []
   },
   "outputs": [
    {
     "data": {
      "image/png": "[encoded data removed]",
      "text/plain": [
       "<Figure size 1000x1000 with 20 Axes>"
      ]
     },
     "metadata": {},
     "output_type": "display_data"
    }
   ],
   "source": [
    "num_images = 20  # Display 20 images\n",
    "num_cols = 5\n",
    "\n",
    "fig, axs = plt.subplots(num_images // num_cols, num_cols, figsize=(10, 10))\n",
    "subplot_size = (8, 8)\n",
    "\n",
    "cm_predicted_labels = []\n",
    "cm_actual_labels = []\n",
    "misclassified_images = []\n",
    "misclassified_labels = []\n",
    "\n",
    "for i in range(num_images):\n",
    "    img, label = test_set[i]\n",
    "    cm_actual_labels.append(output_label(label))\n",
    "    img = img[np.newaxis, :]\n",
    "    \n",
    "    outputs = session.run(None, {input_name: img.numpy()}, run_options=run_opt)\n",
    "    logits = torch.tensor(outputs)\n",
    "\n",
    "    softmax_probs = torch.softmax(logits[0], dim=1)\n",
    "    predicted_class = torch.argmax(softmax_probs, dim=1).item()\n",
    "    cm_predicted_labels.append(output_label(predicted_class))\n",
    "\n",
    "     # Process the outputs\n",
    "    if (label != predicted_class):\n",
    "        misclassified_images.append(i)\n",
    "        misclassified_labels.append(output_label(predicted_class))\n",
    "\n",
    "    axs[i // num_cols, i % num_cols].imshow(img.numpy().squeeze(), cmap=\"PRGn\")\n",
    "    axs[i // num_cols, i % num_cols].set_title(f\"\"\"Image {i} \n",
    "    Predicted class: {output_label(predicted_class)}\"\"\", fontsize=8)\n",
    "    axs[i // num_cols, i % num_cols].axis('off')\n",
    "    axs[i // num_cols, i % num_cols].set_aspect('auto')\n",
    "\n",
    "plt.subplots_adjust(wspace=0.5, hspace=0.5)\n",
    "plt.show()"
   ]
  },
  {
   "cell_type": "markdown",
   "metadata": {},
   "source": [
    "### Display any Mis-classifications\n",
    "\n",
    "20 images from the test set are read, classified and  visualized by running the quantized fashion-mnist model on the NPU."
   ]
  },
  {
   "cell_type": "code",
   "execution_count": 195,
   "metadata": {
    "tags": []
   },
   "outputs": [
    {
     "name": "stdout",
     "output_type": "stream",
     "text": [
      "Total misclassified images: 2\n",
      "[12, 17]\n"
     ]
    },
    {
     "data": {
      "image/png": "[encoded data removed]",
      "text/plain": [
       "<Figure size 400x400 with 4 Axes>"
      ]
     },
     "metadata": {},
     "output_type": "display_data"
    }
   ],
   "source": [
    "print(f\"Total misclassified images: {len(misclassified_images)}\")\n",
    "print(misclassified_images)\n",
    "\n",
    "show_imlist_mis = []\n",
    "\n",
    "for i in misclassified_images:\n",
    "    show_imlist_mis.append(test_set[i][0].squeeze())\n",
    "\n",
    "varpltsize = len(misclassified_images)\n",
    "\n",
    "fig = plt.figure(figsize=((1 * 2 * varpltsize), 1 * 2 * varpltsize))\n",
    "grid = ImageGrid(fig, 111,  # similar to subplot(111)\n",
    "                 nrows_ncols=(1, len(misclassified_images)),  \n",
    "                 axes_pad=0.3,  # pad between axes in inch.\n",
    "                 )\n",
    "cnt=0\n",
    "for ax, image, label in zip(grid, show_imlist_mis, misclassified_labels):\n",
    "    ax.axis(\"off\")\n",
    "    ax.imshow(image,cmap=\"PRGn\")\n",
    "    ax.set_title(f\"\"\"Predicted label: {label} \n",
    "    Actual label: {output_label(test_set[misclassified_images[cnt]][1])}\"\"\", fontdict={'fontsize':8})\n",
    "    cnt+=1\n",
    "\n",
    "plt.show()"
   ]
  },
  {
   "cell_type": "markdown",
   "metadata": {},
   "source": [
    "<div class=\"alert alert-box alert-warning\">\n",
    "<H4>Below cells will check the correct working of the notebook.</H4>\n",
    "<ul>\n",
    "<li>Accuracy of model on test_set should be above 85%</li>\n",
    "<li>Reasonable confusion Matrix</li>\n",
    "<li>36 Nodes should run on the NPU in the vitisai_ep_report.json output JSON file</li>\n",
    "</ul>\n",
    "</div>"
   ]
  },
  {
   "cell_type": "markdown",
   "metadata": {},
   "source": [
    "### Measure accuracy on entire test set\n",
    "\n",
    "10000 images from the test set are read, classified and we calculate the accuracy of the quantized fashion-mnist model on the NPU."
   ]
  },
  {
   "cell_type": "code",
   "execution_count": 196,
   "metadata": {
    "tags": []
   },
   "outputs": [
    {
     "name": "stdout",
     "output_type": "stream",
     "text": [
      "Total correctly classified images: 8883\n",
      "Total misclassified images: 1117\n"
     ]
    }
   ],
   "source": [
    "num_images = 10000 \n",
    "num_cols = 5\n",
    "\n",
    "cm_predicted_labels = []\n",
    "cm_actual_labels = []\n",
    "misclassified_images = []\n",
    "misclassified_labels = []\n",
    "\n",
    "for i in range(num_images):\n",
    "    img, label = test_set[i]\n",
    "    cm_actual_labels.append(output_label(label))\n",
    "    img = img[np.newaxis, :]\n",
    "    \n",
    "    outputs = session.run(None, {input_name: img.numpy()}, run_options=run_opt)\n",
    "    logits = torch.tensor(outputs)\n",
    "\n",
    "    softmax_probs = torch.softmax(logits[0], dim=1)\n",
    "    predicted_class = torch.argmax(softmax_probs, dim=1).item()\n",
    "    cm_predicted_labels.append(output_label(predicted_class))\n",
    "\n",
    "    # Process the outputs\n",
    "    if (label != predicted_class):\n",
    "        misclassified_images.append(i)\n",
    "        misclassified_labels.append(output_label(predicted_class))\n",
    "\n",
    "print(f\"Total correctly classified images: {10000 - len(misclassified_images)}\")\n",
    "print(f\"Total misclassified images: {len(misclassified_images)}\")"
   ]
  },
  {
   "cell_type": "markdown",
   "metadata": {},
   "source": [
    "<div class=\"alert alert-box alert-info\">\n",
    "The below accuracy on the test images is calculated for the quantized model run on the NPU.\n",
    "</div>"
   ]
  },
  {
   "cell_type": "code",
   "execution_count": 198,
   "metadata": {},
   "outputs": [
    {
     "name": "stdout",
     "output_type": "stream",
     "text": [
      " Accuracy of the quantized model for the test set is : 88.83 %\n"
     ]
    }
   ],
   "source": [
    "print(f\" Accuracy of the quantized model for the test set is : {(accuracy_score(cm_actual_labels, cm_predicted_labels)*100):.2f} %\")"
   ]
  },
  {
   "cell_type": "markdown",
   "metadata": {},
   "source": [
    "### Confusion matrix\n",
    "\n",
    "The X-axis represents the predicted class and the Y-axis represents the actual class.\n",
    "\n",
    "The diagonal cells show true positives, they show how many instances of each class were correctly predicted by the model. \n",
    "The off-diagonal cells show instances where the predicted class did not match the actual class."
   ]
  },
  {
   "cell_type": "code",
   "execution_count": 169,
   "metadata": {},
   "outputs": [
    {
     "data": {
      "image/png": "[encoded data removed]",
      "text/plain": [
       "<Figure size 1000x500 with 2 Axes>"
      ]
     },
     "metadata": {},
     "output_type": "display_data"
    }
   ],
   "source": [
    "cf_matrix = confusion_matrix(cm_actual_labels, cm_predicted_labels)\n",
    "df = pd.DataFrame(cf_matrix/np.sum(cf_matrix,axis=1), index = [output_label(i) for i in range(10)], columns=[output_label(i) for i in range(10)])\n",
    "plt.figure(figsize = (10,5));\n",
    "sn.heatmap(df, annot=True, cmap=\"PiYG\");"
   ]
  },
  {
   "cell_type": "markdown",
   "metadata": {},
   "source": [
    "---"
   ]
  },
  {
   "cell_type": "markdown",
   "metadata": {},
   "source": [
    "### Review Output JSON file and analyze partitioning\n",
    "Analyze operator partitions between the NPU and CPU."
   ]
  },
  {
   "cell_type": "code",
   "execution_count": 170,
   "metadata": {},
   "outputs": [
    {
     "data": {
      "application/json": {
       "deviceStat": [
        {
         "name": "all",
         "nodeNum": 38,
         "supportedOpType": [
          "::Conv",
          "::DequantizeLinear",
          "::Gemm",
          "::MaxPool",
          "::QuantizeLinear",
          "::Relu",
          "::Reshape"
         ]
        },
        {
         "name": "CPU",
         "nodeNum": 2,
         "supportedOpType": [
          "::DequantizeLinear",
          "::QuantizeLinear"
         ]
        },
        {
         "name": "NPU",
         "nodeNum": 36,
         "supportedOpType": [
          "::Conv",
          "::DequantizeLinear",
          "::Gemm",
          "::MaxPool",
          "::QuantizeLinear",
          "::Relu",
          "::Reshape"
         ]
        }
       ],
       "nodeStat": [
        {
         "comment": "@6 [input_QuantizeLinear_Output:(ty=2,shape=[-1,1,28,28])] QuantizeLinear [input:(ty=1,shape=[-1,1,28,28]),input_scale:(ty=1,shape=[]),input_zero_point:(ty=2,shape=[])]",
         "device": "CPU",
         "input": [
          "input",
          "input_scale",
          "input_zero_point"
         ],
         "opType": "QuantizeLinear",
         "output": [
          "input_QuantizeLinear_Output"
         ]
        },
        {
         "comment": "@11 [input_DequantizeLinear_Output:(ty=1,shape=[-1,1,28,28])] DequantizeLinear [input_QuantizeLinear_Output:(ty=2,shape=[-1,1,28,28]),input_scale:(ty=1,shape=[]),input_zero_point:(ty=2,shape=[])]",
         "device": "NPU",
         "input": [
          "input_QuantizeLinear_Output",
          "input_scale",
          "input_zero_point"
         ],
         "opType": "DequantizeLinear",
         "output": [
          "input_DequantizeLinear_Output"
         ]
        },
        {
         "comment": "@8 [onnx::Conv_44_DequantizeLinear_Output:(ty=1,shape=[32])] DequantizeLinear [onnx::Conv_44_quantized:(ty=3,shape=[32]),input_scale:(ty=1,shape=[]),onnx::Conv_44_zero_point:(ty=3,shape=[])]",
         "device": "NPU",
         "input": [
          "onnx::Conv_44_quantized",
          "input_scale",
          "onnx::Conv_44_zero_point"
         ],
         "opType": "DequantizeLinear",
         "output": [
          "onnx::Conv_44_DequantizeLinear_Output"
         ]
        },
        {
         "comment": "@7 [onnx::Conv_43_DequantizeLinear_Output:(ty=1,shape=[32,1,3,3])] DequantizeLinear [onnx::Conv_43_quantized:(ty=3,shape=[32,1,3,3]),onnx::Conv_43_scale:(ty=1,shape=[]),onnx::Conv_43_zero_point:(ty=3,shape=[])]",
         "device": "NPU",
         "input": [
          "onnx::Conv_43_quantized",
          "onnx::Conv_43_scale",
          "onnx::Conv_43_zero_point"
         ],
         "opType": "DequantizeLinear",
         "output": [
          "onnx::Conv_43_DequantizeLinear_Output"
         ]
        },
        {
         "comment": "@12 [/layer1/layer1.0/Conv_output_0:(ty=1,shape=[-1,32,28,28])] Conv [input_DequantizeLinear_Output:(ty=1,shape=[-1,1,28,28]),onnx::Conv_43_DequantizeLinear_Output:(ty=1,shape=[32,1,3,3]),onnx::Conv_44_DequantizeLinear_Output:(ty=1,shape=[32])]",
         "device": "NPU",
         "input": [
          "input_DequantizeLinear_Output",
          "onnx::Conv_43_DequantizeLinear_Output",
          "onnx::Conv_44_DequantizeLinear_Output"
         ],
         "opType": "Conv",
         "output": [
          "/layer1/layer1.0/Conv_output_0"
         ]
        },
        {
         "comment": "@13 [/layer1/layer1.2/Relu_output_0:(ty=1,shape=[-1,32,28,28])] Relu [/layer1/layer1.0/Conv_output_0:(ty=1,shape=[-1,32,28,28])]",
         "device": "NPU",
         "input": [
          "/layer1/layer1.0/Conv_output_0"
         ],
         "opType": "Relu",
         "output": [
          "/layer1/layer1.2/Relu_output_0"
         ]
        },
        {
         "comment": "@14 [/layer1/layer1.2/Relu_output_0_QuantizeLinear_Output:(ty=2,shape=[-1,32,28,28])] QuantizeLinear [/layer1/layer1.2/Relu_output_0:(ty=1,shape=[-1,32,28,28]),onnx::Conv_43_scale:(ty=1,shape=[]),/layer1/layer1.2/Relu_output_0_zero_point:(ty=2,shape=[])]",
         "device": "NPU",
         "input": [
          "/layer1/layer1.2/Relu_output_0",
          "onnx::Conv_43_scale",
          "/layer1/layer1.2/Relu_output_0_zero_point"
         ],
         "opType": "QuantizeLinear",
         "output": [
          "/layer1/layer1.2/Relu_output_0_QuantizeLinear_Output"
         ]
        },
        {
         "comment": "@15 [/layer1/layer1.2/Relu_output_0_DequantizeLinear_Output:(ty=1,shape=[-1,32,28,28])] DequantizeLinear [/layer1/layer1.2/Relu_output_0_QuantizeLinear_Output:(ty=2,shape=[-1,32,28,28]),onnx::Conv_43_scale:(ty=1,shape=[]),/layer1/layer1.2/Relu_output_0_zero_point:(ty=2,shape=[])]",
         "device": "NPU",
         "input": [
          "/layer1/layer1.2/Relu_output_0_QuantizeLinear_Output",
          "onnx::Conv_43_scale",
          "/layer1/layer1.2/Relu_output_0_zero_point"
         ],
         "opType": "DequantizeLinear",
         "output": [
          "/layer1/layer1.2/Relu_output_0_DequantizeLinear_Output"
         ]
        },
        {
         "comment": "@16 [/layer1/layer1.3/MaxPool_output_0:(ty=1,shape=[-1,32,14,14])] MaxPool [/layer1/layer1.2/Relu_output_0_DequantizeLinear_Output:(ty=1,shape=[-1,32,28,28])]",
         "device": "NPU",
         "input": [
          "/layer1/layer1.2/Relu_output_0_DequantizeLinear_Output"
         ],
         "opType": "MaxPool",
         "output": [
          "/layer1/layer1.3/MaxPool_output_0"
         ]
        },
        {
         "comment": "@17 [/layer1/layer1.3/MaxPool_output_0_QuantizeLinear_Output:(ty=2,shape=[-1,32,14,14])] QuantizeLinear [/layer1/layer1.3/MaxPool_output_0:(ty=1,shape=[-1,32,14,14]),onnx::Conv_43_scale:(ty=1,shape=[]),/layer1/layer1.2/Relu_output_0_zero_point:(ty=2,shape=[])]",
         "device": "NPU",
         "input": [
          "/layer1/layer1.3/MaxPool_output_0",
          "onnx::Conv_43_scale",
          "/layer1/layer1.2/Relu_output_0_zero_point"
         ],
         "opType": "QuantizeLinear",
         "output": [
          "/layer1/layer1.3/MaxPool_output_0_QuantizeLinear_Output"
         ]
        },
        {
         "comment": "@18 [/layer1/layer1.3/MaxPool_output_0_DequantizeLinear_Output:(ty=1,shape=[-1,32,14,14])] DequantizeLinear [/layer1/layer1.3/MaxPool_output_0_QuantizeLinear_Output:(ty=2,shape=[-1,32,14,14]),onnx::Conv_43_scale:(ty=1,shape=[]),/layer1/layer1.2/Relu_output_0_zero_point:(ty=2,shape=[])]",
         "device": "NPU",
         "input": [
          "/layer1/layer1.3/MaxPool_output_0_QuantizeLinear_Output",
          "onnx::Conv_43_scale",
          "/layer1/layer1.2/Relu_output_0_zero_point"
         ],
         "opType": "DequantizeLinear",
         "output": [
          "/layer1/layer1.3/MaxPool_output_0_DequantizeLinear_Output"
         ]
        },
        {
         "comment": "@10 [onnx::Conv_47_DequantizeLinear_Output:(ty=1,shape=[64])] DequantizeLinear [onnx::Conv_47_quantized:(ty=3,shape=[64]),onnx::Conv_47_scale:(ty=1,shape=[]),onnx::Conv_47_zero_point:(ty=3,shape=[])]",
         "device": "NPU",
         "input": [
          "onnx::Conv_47_quantized",
          "onnx::Conv_47_scale",
          "onnx::Conv_47_zero_point"
         ],
         "opType": "DequantizeLinear",
         "output": [
          "onnx::Conv_47_DequantizeLinear_Output"
         ]
        },
        {
         "comment": "@9 [onnx::Conv_46_DequantizeLinear_Output:(ty=1,shape=[64,32,3,3])] DequantizeLinear [onnx::Conv_46_quantized:(ty=3,shape=[64,32,3,3]),onnx::Conv_46_scale:(ty=1,shape=[]),onnx::Conv_46_zero_point:(ty=3,shape=[])]",
         "device": "NPU",
         "input": [
          "onnx::Conv_46_quantized",
          "onnx::Conv_46_scale",
          "onnx::Conv_46_zero_point"
         ],
         "opType": "DequantizeLinear",
         "output": [
          "onnx::Conv_46_DequantizeLinear_Output"
         ]
        },
        {
         "comment": "@19 [/layer2/layer2.0/Conv_output_0:(ty=1,shape=[-1,64,12,12])] Conv [/layer1/layer1.3/MaxPool_output_0_DequantizeLinear_Output:(ty=1,shape=[-1,32,14,14]),onnx::Conv_46_DequantizeLinear_Output:(ty=1,shape=[64,32,3,3]),onnx::Conv_47_DequantizeLinear_Output:(ty=1,shape=[64])]",
         "device": "NPU",
         "input": [
          "/layer1/layer1.3/MaxPool_output_0_DequantizeLinear_Output",
          "onnx::Conv_46_DequantizeLinear_Output",
          "onnx::Conv_47_DequantizeLinear_Output"
         ],
         "opType": "Conv",
         "output": [
          "/layer2/layer2.0/Conv_output_0"
         ]
        },
        {
         "comment": "@20 [/layer2/layer2.2/Relu_output_0:(ty=1,shape=[-1,64,12,12])] Relu [/layer2/layer2.0/Conv_output_0:(ty=1,shape=[-1,64,12,12])]",
         "device": "NPU",
         "input": [
          "/layer2/layer2.0/Conv_output_0"
         ],
         "opType": "Relu",
         "output": [
          "/layer2/layer2.2/Relu_output_0"
         ]
        },
        {
         "comment": "@21 [/layer2/layer2.2/Relu_output_0_QuantizeLinear_Output:(ty=2,shape=[-1,64,12,12])] QuantizeLinear [/layer2/layer2.2/Relu_output_0:(ty=1,shape=[-1,64,12,12]),onnx::Conv_43_scale:(ty=1,shape=[]),/layer2/layer2.2/Relu_output_0_zero_point:(ty=2,shape=[])]",
         "device": "NPU",
         "input": [
          "/layer2/layer2.2/Relu_output_0",
          "onnx::Conv_43_scale",
          "/layer2/layer2.2/Relu_output_0_zero_point"
         ],
         "opType": "QuantizeLinear",
         "output": [
          "/layer2/layer2.2/Relu_output_0_QuantizeLinear_Output"
         ]
        },
        {
         "comment": "@22 [/layer2/layer2.2/Relu_output_0_DequantizeLinear_Output:(ty=1,shape=[-1,64,12,12])] DequantizeLinear [/layer2/layer2.2/Relu_output_0_QuantizeLinear_Output:(ty=2,shape=[-1,64,12,12]),onnx::Conv_43_scale:(ty=1,shape=[]),/layer2/layer2.2/Relu_output_0_zero_point:(ty=2,shape=[])]",
         "device": "NPU",
         "input": [
          "/layer2/layer2.2/Relu_output_0_QuantizeLinear_Output",
          "onnx::Conv_43_scale",
          "/layer2/layer2.2/Relu_output_0_zero_point"
         ],
         "opType": "DequantizeLinear",
         "output": [
          "/layer2/layer2.2/Relu_output_0_DequantizeLinear_Output"
         ]
        },
        {
         "comment": "@23 [/layer2/layer2.3/MaxPool_output_0:(ty=1,shape=[-1,64,6,6])] MaxPool [/layer2/layer2.2/Relu_output_0_DequantizeLinear_Output:(ty=1,shape=[-1,64,12,12])]",
         "device": "NPU",
         "input": [
          "/layer2/layer2.2/Relu_output_0_DequantizeLinear_Output"
         ],
         "opType": "MaxPool",
         "output": [
          "/layer2/layer2.3/MaxPool_output_0"
         ]
        },
        {
         "comment": "@24 [/layer2/layer2.3/MaxPool_output_0_QuantizeLinear_Output:(ty=2,shape=[-1,64,6,6])] QuantizeLinear [/layer2/layer2.3/MaxPool_output_0:(ty=1,shape=[-1,64,6,6]),onnx::Conv_43_scale:(ty=1,shape=[]),/layer2/layer2.2/Relu_output_0_zero_point:(ty=2,shape=[])]",
         "device": "NPU",
         "input": [
          "/layer2/layer2.3/MaxPool_output_0",
          "onnx::Conv_43_scale",
          "/layer2/layer2.2/Relu_output_0_zero_point"
         ],
         "opType": "QuantizeLinear",
         "output": [
          "/layer2/layer2.3/MaxPool_output_0_QuantizeLinear_Output"
         ]
        },
        {
         "comment": "@25 [/layer2/layer2.3/MaxPool_output_0_DequantizeLinear_Output:(ty=1,shape=[-1,64,6,6])] DequantizeLinear [/layer2/layer2.3/MaxPool_output_0_QuantizeLinear_Output:(ty=2,shape=[-1,64,6,6]),onnx::Conv_43_scale:(ty=1,shape=[]),/layer2/layer2.2/Relu_output_0_zero_point:(ty=2,shape=[])]",
         "device": "NPU",
         "input": [
          "/layer2/layer2.3/MaxPool_output_0_QuantizeLinear_Output",
          "onnx::Conv_43_scale",
          "/layer2/layer2.2/Relu_output_0_zero_point"
         ],
         "opType": "DequantizeLinear",
         "output": [
          "/layer2/layer2.3/MaxPool_output_0_DequantizeLinear_Output"
         ]
        },
        {
         "comment": "@26 [/Reshape_output_0:(ty=1,shape=[-1,2304])] Reshape [/layer2/layer2.3/MaxPool_output_0_DequantizeLinear_Output:(ty=1,shape=[-1,64,6,6]),/Concat_output_0:(ty=7,shape=[2])]",
         "device": "NPU",
         "input": [
          "/layer2/layer2.3/MaxPool_output_0_DequantizeLinear_Output",
          "/Concat_output_0"
         ],
         "opType": "Reshape",
         "output": [
          "/Reshape_output_0"
         ]
        },
        {
         "comment": "@27 [/Reshape_output_0_QuantizeLinear_Output:(ty=2,shape=[-1,2304])] QuantizeLinear [/Reshape_output_0:(ty=1,shape=[-1,2304]),onnx::Conv_43_scale:(ty=1,shape=[]),/layer2/layer2.2/Relu_output_0_zero_point:(ty=2,shape=[])]",
         "device": "NPU",
         "input": [
          "/Reshape_output_0",
          "onnx::Conv_43_scale",
          "/layer2/layer2.2/Relu_output_0_zero_point"
         ],
         "opType": "QuantizeLinear",
         "output": [
          "/Reshape_output_0_QuantizeLinear_Output"
         ]
        },
        {
         "comment": "@28 [/Reshape_output_0_DequantizeLinear_Output:(ty=1,shape=[-1,2304])] DequantizeLinear [/Reshape_output_0_QuantizeLinear_Output:(ty=2,shape=[-1,2304]),onnx::Conv_43_scale:(ty=1,shape=[]),/layer2/layer2.2/Relu_output_0_zero_point:(ty=2,shape=[])]",
         "device": "NPU",
         "input": [
          "/Reshape_output_0_QuantizeLinear_Output",
          "onnx::Conv_43_scale",
          "/layer2/layer2.2/Relu_output_0_zero_point"
         ],
         "opType": "DequantizeLinear",
         "output": [
          "/Reshape_output_0_DequantizeLinear_Output"
         ]
        },
        {
         "comment": "@1 [fc1.weight_DequantizeLinear_Output:(ty=1,shape=[600,2304])] DequantizeLinear [fc1.weight_quantized:(ty=3,shape=[600,2304]),fc2.bias_scale:(ty=1,shape=[]),fc1.weight_zero_point:(ty=3,shape=[])]",
         "device": "NPU",
         "input": [
          "fc1.weight_quantized",
          "fc2.bias_scale",
          "fc1.weight_zero_point"
         ],
         "opType": "DequantizeLinear",
         "output": [
          "fc1.weight_DequantizeLinear_Output"
         ]
        },
        {
         "comment": "@0 [fc1.bias_DequantizeLinear_Output:(ty=1,shape=[600])] DequantizeLinear [fc1.bias_quantized:(ty=3,shape=[600]),fc1.bias_scale:(ty=1,shape=[]),fc1.bias_zero_point:(ty=3,shape=[])]",
         "device": "NPU",
         "input": [
          "fc1.bias_quantized",
          "fc1.bias_scale",
          "fc1.bias_zero_point"
         ],
         "opType": "DequantizeLinear",
         "output": [
          "fc1.bias_DequantizeLinear_Output"
         ]
        },
        {
         "comment": "@29 [/fc1/Gemm_output_0:(ty=1,shape=[-1,600])] Gemm [/Reshape_output_0_DequantizeLinear_Output:(ty=1,shape=[-1,2304]),fc1.weight_DequantizeLinear_Output:(ty=1,shape=[600,2304]),fc1.bias_DequantizeLinear_Output:(ty=1,shape=[600])]",
         "device": "NPU",
         "input": [
          "/Reshape_output_0_DequantizeLinear_Output",
          "fc1.weight_DequantizeLinear_Output",
          "fc1.bias_DequantizeLinear_Output"
         ],
         "opType": "Gemm",
         "output": [
          "/fc1/Gemm_output_0"
         ]
        },
        {
         "comment": "@30 [/fc1/Gemm_output_0_QuantizeLinear_Output:(ty=2,shape=[-1,600])] QuantizeLinear [/fc1/Gemm_output_0:(ty=1,shape=[-1,600]),/fc1/Gemm_output_0_scale:(ty=1,shape=[]),/fc1/Gemm_output_0_zero_point:(ty=2,shape=[])]",
         "device": "NPU",
         "input": [
          "/fc1/Gemm_output_0",
          "/fc1/Gemm_output_0_scale",
          "/fc1/Gemm_output_0_zero_point"
         ],
         "opType": "QuantizeLinear",
         "output": [
          "/fc1/Gemm_output_0_QuantizeLinear_Output"
         ]
        },
        {
         "comment": "@31 [/fc1/Gemm_output_0_DequantizeLinear_Output:(ty=1,shape=[-1,600])] DequantizeLinear [/fc1/Gemm_output_0_QuantizeLinear_Output:(ty=2,shape=[-1,600]),/fc1/Gemm_output_0_scale:(ty=1,shape=[]),/fc1/Gemm_output_0_zero_point:(ty=2,shape=[])]",
         "device": "NPU",
         "input": [
          "/fc1/Gemm_output_0_QuantizeLinear_Output",
          "/fc1/Gemm_output_0_scale",
          "/fc1/Gemm_output_0_zero_point"
         ],
         "opType": "DequantizeLinear",
         "output": [
          "/fc1/Gemm_output_0_DequantizeLinear_Output"
         ]
        },
        {
         "comment": "@3 [fc2.weight_DequantizeLinear_Output:(ty=1,shape=[120,600])] DequantizeLinear [fc2.weight_quantized:(ty=3,shape=[120,600]),fc2.bias_scale:(ty=1,shape=[]),fc2.weight_zero_point:(ty=3,shape=[])]",
         "device": "NPU",
         "input": [
          "fc2.weight_quantized",
          "fc2.bias_scale",
          "fc2.weight_zero_point"
         ],
         "opType": "DequantizeLinear",
         "output": [
          "fc2.weight_DequantizeLinear_Output"
         ]
        },
        {
         "comment": "@2 [fc2.bias_DequantizeLinear_Output:(ty=1,shape=[120])] DequantizeLinear [fc2.bias_quantized:(ty=3,shape=[120]),fc2.bias_scale:(ty=1,shape=[]),fc2.bias_zero_point:(ty=3,shape=[])]",
         "device": "NPU",
         "input": [
          "fc2.bias_quantized",
          "fc2.bias_scale",
          "fc2.bias_zero_point"
         ],
         "opType": "DequantizeLinear",
         "output": [
          "fc2.bias_DequantizeLinear_Output"
         ]
        },
        {
         "comment": "@32 [/fc2/Gemm_output_0:(ty=1,shape=[-1,120])] Gemm [/fc1/Gemm_output_0_DequantizeLinear_Output:(ty=1,shape=[-1,600]),fc2.weight_DequantizeLinear_Output:(ty=1,shape=[120,600]),fc2.bias_DequantizeLinear_Output:(ty=1,shape=[120])]",
         "device": "NPU",
         "input": [
          "/fc1/Gemm_output_0_DequantizeLinear_Output",
          "fc2.weight_DequantizeLinear_Output",
          "fc2.bias_DequantizeLinear_Output"
         ],
         "opType": "Gemm",
         "output": [
          "/fc2/Gemm_output_0"
         ]
        },
        {
         "comment": "@33 [/fc2/Gemm_output_0_QuantizeLinear_Output:(ty=2,shape=[-1,120])] QuantizeLinear [/fc2/Gemm_output_0:(ty=1,shape=[-1,120]),/fc1/Gemm_output_0_scale:(ty=1,shape=[]),/fc2/Gemm_output_0_zero_point:(ty=2,shape=[])]",
         "device": "NPU",
         "input": [
          "/fc2/Gemm_output_0",
          "/fc1/Gemm_output_0_scale",
          "/fc2/Gemm_output_0_zero_point"
         ],
         "opType": "QuantizeLinear",
         "output": [
          "/fc2/Gemm_output_0_QuantizeLinear_Output"
         ]
        },
        {
         "comment": "@34 [/fc2/Gemm_output_0_DequantizeLinear_Output:(ty=1,shape=[-1,120])] DequantizeLinear [/fc2/Gemm_output_0_QuantizeLinear_Output:(ty=2,shape=[-1,120]),/fc1/Gemm_output_0_scale:(ty=1,shape=[]),/fc2/Gemm_output_0_zero_point:(ty=2,shape=[])]",
         "device": "NPU",
         "input": [
          "/fc2/Gemm_output_0_QuantizeLinear_Output",
          "/fc1/Gemm_output_0_scale",
          "/fc2/Gemm_output_0_zero_point"
         ],
         "opType": "DequantizeLinear",
         "output": [
          "/fc2/Gemm_output_0_DequantizeLinear_Output"
         ]
        },
        {
         "comment": "@5 [fc3.weight_DequantizeLinear_Output:(ty=1,shape=[10,120])] DequantizeLinear [fc3.weight_quantized:(ty=3,shape=[10,120]),fc3.weight_scale:(ty=1,shape=[]),fc3.weight_zero_point:(ty=3,shape=[])]",
         "device": "NPU",
         "input": [
          "fc3.weight_quantized",
          "fc3.weight_scale",
          "fc3.weight_zero_point"
         ],
         "opType": "DequantizeLinear",
         "output": [
          "fc3.weight_DequantizeLinear_Output"
         ]
        },
        {
         "comment": "@4 [fc3.bias_DequantizeLinear_Output:(ty=1,shape=[10])] DequantizeLinear [fc3.bias_quantized:(ty=3,shape=[10]),fc3.weight_scale:(ty=1,shape=[]),fc3.bias_zero_point:(ty=3,shape=[])]",
         "device": "NPU",
         "input": [
          "fc3.bias_quantized",
          "fc3.weight_scale",
          "fc3.bias_zero_point"
         ],
         "opType": "DequantizeLinear",
         "output": [
          "fc3.bias_DequantizeLinear_Output"
         ]
        },
        {
         "comment": "@35 [output_QuantizeLinear_Input:(ty=1,shape=[-1,10])] Gemm [/fc2/Gemm_output_0_DequantizeLinear_Output:(ty=1,shape=[-1,120]),fc3.weight_DequantizeLinear_Output:(ty=1,shape=[10,120]),fc3.bias_DequantizeLinear_Output:(ty=1,shape=[10])]",
         "device": "NPU",
         "input": [
          "/fc2/Gemm_output_0_DequantizeLinear_Output",
          "fc3.weight_DequantizeLinear_Output",
          "fc3.bias_DequantizeLinear_Output"
         ],
         "opType": "Gemm",
         "output": [
          "output_QuantizeLinear_Input"
         ]
        },
        {
         "comment": "@36 [output_QuantizeLinear_Output:(ty=2,shape=[-1,10])] QuantizeLinear [output_QuantizeLinear_Input:(ty=1,shape=[-1,10]),output_scale:(ty=1,shape=[]),output_zero_point:(ty=2,shape=[])]",
         "device": "NPU",
         "input": [
          "output_QuantizeLinear_Input",
          "output_scale",
          "output_zero_point"
         ],
         "opType": "QuantizeLinear",
         "output": [
          "output_QuantizeLinear_Output"
         ]
        },
        {
         "comment": "@37 [output:(ty=1,shape=[-1,10])] DequantizeLinear [output_QuantizeLinear_Output:(ty=2,shape=[-1,10]),output_scale:(ty=1,shape=[]),output_zero_point:(ty=2,shape=[])]",
         "device": "CPU",
         "input": [
          "output_QuantizeLinear_Output",
          "output_scale",
          "output_zero_point"
         ],
         "opType": "DequantizeLinear",
         "output": [
          "output"
         ]
        }
       ],
       "shapeInfo": [
        {
         "name": "input_QuantizeLinear_Output",
         "shape": [
          "-1",
          "1",
          "28",
          "28"
         ]
        },
        {
         "name": "input_DequantizeLinear_Output",
         "shape": [
          "-1",
          "1",
          "28",
          "28"
         ]
        },
        {
         "name": "onnx::Conv_44_DequantizeLinear_Output",
         "shape": [
          "32"
         ]
        },
        {
         "name": "onnx::Conv_43_DequantizeLinear_Output",
         "shape": [
          "32",
          "1",
          "3",
          "3"
         ]
        },
        {
         "name": "/layer1/layer1.0/Conv_output_0",
         "shape": [
          "-1",
          "32",
          "28",
          "28"
         ]
        },
        {
         "name": "/layer1/layer1.2/Relu_output_0",
         "shape": [
          "-1",
          "32",
          "28",
          "28"
         ]
        },
        {
         "name": "/layer1/layer1.2/Relu_output_0_QuantizeLinear_Output",
         "shape": [
          "-1",
          "32",
          "28",
          "28"
         ]
        },
        {
         "name": "/layer1/layer1.2/Relu_output_0_DequantizeLinear_Output",
         "shape": [
          "-1",
          "32",
          "28",
          "28"
         ]
        },
        {
         "name": "/layer1/layer1.3/MaxPool_output_0",
         "shape": [
          "-1",
          "32",
          "14",
          "14"
         ]
        },
        {
         "name": "/layer1/layer1.3/MaxPool_output_0_QuantizeLinear_Output",
         "shape": [
          "-1",
          "32",
          "14",
          "14"
         ]
        },
        {
         "name": "/layer1/layer1.3/MaxPool_output_0_DequantizeLinear_Output",
         "shape": [
          "-1",
          "32",
          "14",
          "14"
         ]
        },
        {
         "name": "onnx::Conv_47_DequantizeLinear_Output",
         "shape": [
          "64"
         ]
        },
        {
         "name": "onnx::Conv_46_DequantizeLinear_Output",
         "shape": [
          "64",
          "32",
          "3",
          "3"
         ]
        },
        {
         "name": "/layer2/layer2.0/Conv_output_0",
         "shape": [
          "-1",
          "64",
          "12",
          "12"
         ]
        },
        {
         "name": "/layer2/layer2.2/Relu_output_0",
         "shape": [
          "-1",
          "64",
          "12",
          "12"
         ]
        },
        {
         "name": "/layer2/layer2.2/Relu_output_0_QuantizeLinear_Output",
         "shape": [
          "-1",
          "64",
          "12",
          "12"
         ]
        },
        {
         "name": "/layer2/layer2.2/Relu_output_0_DequantizeLinear_Output",
         "shape": [
          "-1",
          "64",
          "12",
          "12"
         ]
        },
        {
         "name": "/layer2/layer2.3/MaxPool_output_0",
         "shape": [
          "-1",
          "64",
          "6",
          "6"
         ]
        },
        {
         "name": "/layer2/layer2.3/MaxPool_output_0_QuantizeLinear_Output",
         "shape": [
          "-1",
          "64",
          "6",
          "6"
         ]
        },
        {
         "name": "/layer2/layer2.3/MaxPool_output_0_DequantizeLinear_Output",
         "shape": [
          "-1",
          "64",
          "6",
          "6"
         ]
        },
        {
         "name": "/Reshape_output_0",
         "shape": [
          "-1",
          "2304"
         ]
        },
        {
         "name": "/Reshape_output_0_QuantizeLinear_Output",
         "shape": [
          "-1",
          "2304"
         ]
        },
        {
         "name": "/Reshape_output_0_DequantizeLinear_Output",
         "shape": [
          "-1",
          "2304"
         ]
        },
        {
         "name": "fc1.weight_DequantizeLinear_Output",
         "shape": [
          "600",
          "2304"
         ]
        },
        {
         "name": "fc1.bias_DequantizeLinear_Output",
         "shape": [
          "600"
         ]
        },
        {
         "name": "/fc1/Gemm_output_0",
         "shape": [
          "-1",
          "600"
         ]
        },
        {
         "name": "/fc1/Gemm_output_0_QuantizeLinear_Output",
         "shape": [
          "-1",
          "600"
         ]
        },
        {
         "name": "/fc1/Gemm_output_0_DequantizeLinear_Output",
         "shape": [
          "-1",
          "600"
         ]
        },
        {
         "name": "fc2.weight_DequantizeLinear_Output",
         "shape": [
          "120",
          "600"
         ]
        },
        {
         "name": "fc2.bias_DequantizeLinear_Output",
         "shape": [
          "120"
         ]
        },
        {
         "name": "/fc2/Gemm_output_0",
         "shape": [
          "-1",
          "120"
         ]
        },
        {
         "name": "/fc2/Gemm_output_0_QuantizeLinear_Output",
         "shape": [
          "-1",
          "120"
         ]
        },
        {
         "name": "/fc2/Gemm_output_0_DequantizeLinear_Output",
         "shape": [
          "-1",
          "120"
         ]
        },
        {
         "name": "fc3.weight_DequantizeLinear_Output",
         "shape": [
          "10",
          "120"
         ]
        },
        {
         "name": "fc3.bias_DequantizeLinear_Output",
         "shape": [
          "10"
         ]
        },
        {
         "name": "output_QuantizeLinear_Input",
         "shape": [
          "-1",
          "10"
         ]
        },
        {
         "name": "output_QuantizeLinear_Output",
         "shape": [
          "-1",
          "10"
         ]
        },
        {
         "name": "output",
         "shape": [
          "-1",
          "10"
         ]
        }
       ],
       "subgraphStat": [
        {
         "count": 1,
         "device": "NPU"
        },
        {
         "count": 1,
         "device": "Actually running on NPU"
        }
       ]
      },
      "text/plain": [
       "<IPython.core.display.JSON object>"
      ]
     },
     "execution_count": 170,
     "metadata": {
      "application/json": {
       "expanded": false,
       "root": "root"
      }
     },
     "output_type": "execute_result"
    }
   ],
   "source": [
    "from IPython.display import JSON\n",
    "import json\n",
    "\n",
    "# Load JSON from file\n",
    "with open(\"./onnx/modelcachekey_lab4/vitisai_ep_report.json\", \"r\") as f:\n",
    "    data = json.load(f)\n",
    "\n",
    "# Display nicely in Jupyter\n",
    "JSON(data)\n"
   ]
  },
  {
   "cell_type": "markdown",
   "metadata": {},
   "source": [
    "---"
   ]
  },
  {
   "cell_type": "markdown",
   "metadata": {},
   "source": [
    "## Delete Cache"
   ]
  },
  {
   "cell_type": "markdown",
   "metadata": {},
   "source": [
    "<div class=\"alert alert-box alert-info\">\n",
    "<b>Note: Modify the \"modelcachekey\" folder name incase you are using a different folder name </b>\n",
    "</div>"
   ]
  },
  {
   "cell_type": "code",
   "execution_count": 171,
   "metadata": {},
   "outputs": [],
   "source": [
    "cache_path = os.path.join(os.getcwd(), \"onnx\", \"modelcachekey_lab4\",\"*\")  \n",
    "files = glob.glob(cache_path)\n",
    "for f in files:\n",
    "    try:\n",
    "        os.remove(f)\n",
    "    except:\n",
    "        continue"
   ]
  },
  {
   "cell_type": "markdown",
   "metadata": {},
   "source": [
    "---"
   ]
  },
  {
   "cell_type": "code",
   "execution_count": null,
   "metadata": {},
   "outputs": [],
   "source": []
  }
 ],
 "metadata": {
  "colab": {
   "name": "Training an Image Classification Model in PyTorch",
   "provenance": []
  },
  "kernelspec": {
   "display_name": "Python 3 (ipykernel)",
   "language": "python",
   "name": "python3"
  },
  "language_info": {
   "codemirror_mode": {
    "name": "ipython",
    "version": 3
   },
   "file_extension": ".py",
   "mimetype": "text/x-python",
   "name": "python",
   "nbconvert_exporter": "python",
   "pygments_lexer": "ipython3",
   "version": "3.10.16"
  }
 },
 "nbformat": 4,
 "nbformat_minor": 4
}
